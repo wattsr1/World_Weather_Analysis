{
 "cells": [
  {
   "cell_type": "code",
   "execution_count": 1,
   "id": "a08f9b84-88d8-41b9-9264-8947d92884fa",
   "metadata": {},
   "outputs": [],
   "source": [
    "# Import the random module\n",
    "import random"
   ]
  },
  {
   "cell_type": "code",
   "execution_count": 2,
   "id": "49621df7-7248-456f-9099-cfb2010a6bee",
   "metadata": {},
   "outputs": [
    {
     "data": {
      "text/plain": [
       "19"
      ]
     },
     "execution_count": 2,
     "metadata": {},
     "output_type": "execute_result"
    }
   ],
   "source": [
    "random.randint(-90, 90)"
   ]
  },
  {
   "cell_type": "code",
   "execution_count": 4,
   "id": "6ee8fb76-644f-4b2c-9db6-64bac92261cb",
   "metadata": {},
   "outputs": [
    {
     "data": {
      "text/plain": [
       "0.8071099479951253"
      ]
     },
     "execution_count": 4,
     "metadata": {},
     "output_type": "execute_result"
    }
   ],
   "source": [
    "random.random()"
   ]
  },
  {
   "cell_type": "code",
   "execution_count": 8,
   "id": "82593e80-2f6a-4659-ba81-68d9d435738e",
   "metadata": {},
   "outputs": [
    {
     "data": {
      "text/plain": [
       "[15.638844206540847,\n",
       " 40.15310780792338,\n",
       " -46.98660402191433,\n",
       " 60.810487713853675,\n",
       " 3.0948395063332805,\n",
       " 28.50975785781892,\n",
       " -50.825990779302664,\n",
       " -82.31521773900104,\n",
       " 65.4115276067469,\n",
       " -36.37582519182104]"
      ]
     },
     "execution_count": 8,
     "metadata": {},
     "output_type": "execute_result"
    }
   ],
   "source": [
    "x = 1\n",
    "latitudes = []\n",
    "while x < 11:\n",
    "    random_lat = random.randint(-90, 89) + random.random()\n",
    "    latitudes.append(random_lat)\n",
    "    x += 1\n",
    "latitudes"
   ]
  },
  {
   "cell_type": "code",
   "execution_count": 9,
   "id": "4e1667e2-f681-4fbc-93a6-da971fbfe4e2",
   "metadata": {},
   "outputs": [
    {
     "data": {
      "text/plain": [
       "-72"
      ]
     },
     "execution_count": 9,
     "metadata": {},
     "output_type": "execute_result"
    }
   ],
   "source": [
    "random.randrange(-90, 90, step=3)"
   ]
  },
  {
   "cell_type": "code",
   "execution_count": 10,
   "id": "20050db2-d4f6-4491-a319-dce1b569f26d",
   "metadata": {},
   "outputs": [
    {
     "data": {
      "text/plain": [
       "-40.18471417611978"
      ]
     },
     "execution_count": 10,
     "metadata": {},
     "output_type": "execute_result"
    }
   ],
   "source": [
    "random.uniform(-90, 90)\n"
   ]
  },
  {
   "cell_type": "code",
   "execution_count": 11,
   "id": "c261694c-aed2-42fc-87b4-9bd508c2a1df",
   "metadata": {},
   "outputs": [],
   "source": [
    "# Import the NumPy module\n",
    "import numpy as np"
   ]
  },
  {
   "cell_type": "code",
   "execution_count": 14,
   "id": "b9a18518-2509-4fce-bb2e-f58f81cd2776",
   "metadata": {},
   "outputs": [
    {
     "data": {
      "text/plain": [
       "array([-28.13485672, -59.58683647, -20.03743164, -89.0829705 ,\n",
       "       -81.0964923 ,  42.25894337,  41.30360501,  61.57042791,\n",
       "        62.99212898, -69.55653777,  78.8234904 ,  33.76195121,\n",
       "        -5.30152261,   0.1654374 ,  60.66116261, -14.63803229,\n",
       "       -34.13906481,  30.74080149,  -2.08038739,  55.0921542 ,\n",
       "        76.54158135, -17.70976789,  73.37369617,  38.1008436 ,\n",
       "        34.27805091,  11.67717874, -53.06004431,  63.47873975,\n",
       "        54.18744088, -85.17131138, -68.35206958, -88.06793252,\n",
       "        83.22236812,  -2.26007097,  12.82207317,  58.63334309,\n",
       "       -58.54153992,  33.61657563,  64.01365893, -89.4257744 ,\n",
       "        22.40988611,   1.17121679,  35.21673438,   2.41510067,\n",
       "        22.87758898,  63.81580396, -26.94470947,  68.86350846,\n",
       "       -60.27079018, -46.74650782])"
      ]
     },
     "execution_count": 14,
     "metadata": {},
     "output_type": "execute_result"
    }
   ],
   "source": [
    "np.random.uniform(-90.000, 90.000, size=50)"
   ]
  },
  {
   "cell_type": "code",
   "execution_count": 15,
   "id": "b32a856f-453e-426a-ad9a-a1c2f524b254",
   "metadata": {},
   "outputs": [],
   "source": [
    "# Import timeit\n",
    "import timeit"
   ]
  },
  {
   "cell_type": "code",
   "execution_count": 17,
   "id": "9805a058-369d-4e7c-b27d-4f89359831dc",
   "metadata": {},
   "outputs": [
    {
     "name": "stdout",
     "output_type": "stream",
     "text": [
      "2.7 µs ± 63.3 ns per loop (mean ± std. dev. of 7 runs, 100000 loops each)\n"
     ]
    }
   ],
   "source": [
    "%timeit np.random.uniform(-90.000, 90.000, size=50)"
   ]
  },
  {
   "cell_type": "code",
   "execution_count": 20,
   "id": "223e351d-cba4-4146-a4f6-d589a1426fa3",
   "metadata": {},
   "outputs": [
    {
     "name": "stdout",
     "output_type": "stream",
     "text": [
      "1.76 ms ± 39.5 µs per loop (mean ± std. dev. of 7 runs, 1000 loops each)\n"
     ]
    }
   ],
   "source": [
    "def latitudes(size):\n",
    "    latitudes = []\n",
    "    x = 0\n",
    "    while x < (size):\n",
    "        random_lat = random.randint(-90, 90) + random.random()\n",
    "        latitudes.append(random_lat)\n",
    "        x += 1\n",
    "    return latitudes\n",
    "# Call the function with 1500\n",
    "%timeit latitudes(1500)"
   ]
  },
  {
   "cell_type": "code",
   "execution_count": null,
   "id": "269f0476-960a-4011-8171-8e62bd290cb4",
   "metadata": {},
   "outputs": [],
   "source": []
  }
 ],
 "metadata": {
  "kernelspec": {
   "display_name": "PythonData",
   "language": "python",
   "name": "pythondata"
  },
  "language_info": {
   "codemirror_mode": {
    "name": "ipython",
    "version": 3
   },
   "file_extension": ".py",
   "mimetype": "text/x-python",
   "name": "python",
   "nbconvert_exporter": "python",
   "pygments_lexer": "ipython3",
   "version": "3.7.10"
  }
 },
 "nbformat": 4,
 "nbformat_minor": 5
}
